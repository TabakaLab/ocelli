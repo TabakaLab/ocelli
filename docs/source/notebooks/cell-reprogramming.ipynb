{
 "cells": [
  {
   "cell_type": "markdown",
   "id": "b32d318c-6ccb-4e44-8a0f-7928544bafbb",
   "metadata": {},
   "source": [
    "# iPSCs reprogramming"
   ]
  },
  {
   "cell_type": "code",
   "execution_count": 1,
   "id": "ff02a732-7d68-424d-aea4-9ad448fb8e8d",
   "metadata": {},
   "outputs": [],
   "source": [
    "import anndata\n",
    "import scvelo as scv\n",
    "import pandas as pd\n",
    "import numpy as np\n",
    "import scanpy as scp\n",
    "from scipy.sparse import issparse, csr_matrix, coo_matrix\n",
    "from tqdm import tqdm\n",
    "from os.path import join\n",
    "import ocelli as oci\n",
    "\n",
    "data_folder = '../../../../experiments/reprogramming/data'\n",
    "output_folder = '../../../../experiments/reprogramming/output'\n",
    "\n",
    "SEED = 17"
   ]
  },
  {
   "cell_type": "code",
   "execution_count": 2,
   "id": "a8917c60-ecb0-4907-8c81-a5f777f9810b",
   "metadata": {},
   "outputs": [
    {
     "name": "stdout",
     "output_type": "stream",
     "text": [
      "CPU times: user 57.3 s, sys: 12.3 s, total: 1min 9s\n",
      "Wall time: 1min 9s\n"
     ]
    }
   ],
   "source": [
    "%%time\n",
    "adata = anndata.read_h5ad(join(data_folder, 'reprogramming_doublet.h5ad'))\n",
    "\n",
    "obs = pd.DataFrame(index=list(adata.obs.index))\n",
    "obs['timestamp'] = [el.split('_')[0][1:] for el in adata.obs['origin']]\n",
    "obs['origin'] = [el.split('_')[1] for el in adata.obs['origin']]\n",
    "obs['doublet_score'] = list(adata.obs['doublet_score'])\n",
    "\n",
    "adata.obs = obs\n",
    "adata.var = pd.DataFrame(index=list(anndata.read_h5ad(join(data_folder, 'Pancreas/endocrinogenesis_day15.h5ad'))[0].var.index))\n",
    "adata.layers = {}\n",
    "\n",
    "adata = adata[adata.obs['origin'].isin(['Dox', 'serum']), :]\n",
    "\n",
    "adata = adata[adata.obs['doublet_score'] < 0.3]\n",
    "scp.pp.filter_cells(adata, min_counts=2000)\n",
    "scp.pp.filter_genes(adata, min_cells=50)\n",
    "scp.pp.downsample_counts(adata, counts_per_cell=15000, random_state=SEED)\n",
    "\n",
    "adata.write(join(output_folder, 'R1.h5ad'))"
   ]
  },
  {
   "cell_type": "code",
   "execution_count": null,
   "id": "999b8777-0d95-45bd-b076-aaf5e78636b4",
   "metadata": {},
   "outputs": [],
   "source": [
    "%%time\n",
    "oci.pp.LDA(adata, n_components=20, output_key='lda', verbose=1, max_iter=30, random_state=SEED)\n",
    "oci.pp.modality_generation(adata, topic_key='lda', norm_log=True, verbose=True)\n",
    "adata.write(join(output_folder, 'R2.h5ad'))"
   ]
  },
  {
   "cell_type": "code",
   "execution_count": null,
   "id": "7b72d6b6-b20e-4f9c-8503-4665debedfc5",
   "metadata": {},
   "outputs": [],
   "source": [
    "%%time\n",
    "paths = ['serum_0.0_0.5.h5ad', 'serum_0.5_1.0.h5ad', 'serum_1.0_1.5.h5ad', \n",
    "         'serum_1.5_2.0.h5ad', 'serum_2.0_2.5.h5ad', 'serum_2.5_3.0.h5ad', \n",
    "         'serum_3.0_3.5.h5ad', 'serum_3.5_4.0.h5ad', 'serum_4.0_4.5.h5ad', \n",
    "         'serum_4.5_5.0.h5ad', 'serum_5.0_5.5.h5ad', 'serum_5.5_6.0.h5ad', \n",
    "         'serum_6.0_6.5.h5ad', 'serum_6.5_7.0.h5ad', 'serum_7.0_7.5.h5ad', \n",
    "         'serum_7.5_8.0.h5ad', 'serum_8.0_8.25.h5ad', 'serum_8.25_8.5.h5ad', \n",
    "         'serum_8.5_8.75.h5ad', 'serum_8.75_9.0.h5ad', 'serum_9.0_9.5.h5ad', \n",
    "         'serum_9.5_10.0.h5ad', 'serum_10.0_10.5.h5ad', 'serum_10.5_11.0.h5ad', \n",
    "         'serum_11.0_11.5.h5ad', 'serum_11.5_12.0.h5ad', 'serum_12.0_12.5.h5ad', \n",
    "         'serum_12.5_13.0.h5ad', 'serum_13.0_13.5.h5ad', 'serum_13.5_14.0.h5ad', \n",
    "         'serum_14.0_14.5.h5ad', 'serum_14.5_15.0.h5ad', 'serum_15.0_15.5.h5ad',\n",
    "         'serum_15.5_16.0.h5ad', 'serum_16.0_16.5.h5ad', 'serum_16.5_17.0.h5ad', \n",
    "         'serum_17.0_17.5.h5ad', 'serum_17.5_18.0.h5ad']\n",
    "\n",
    "def filter_cells(adata, x):\n",
    "    obs_in, var_in = list(), list()\n",
    "    \n",
    "    for el in adata.obs.index:\n",
    "        if el in x.obs.index:\n",
    "            obs_in.append(el)\n",
    "    for el in adata.obs.index:\n",
    "        if el in x.var.index:\n",
    "            var_in.append(el)\n",
    "            \n",
    "    return x[obs_in, var_in]\n",
    "        \n",
    "barcode_map = dict()\n",
    "for i, barcode in enumerate(adata.obs.index):\n",
    "    barcode_map[barcode] = i\n",
    "    \n",
    "M = coo_matrix(([], ([], [])), shape=(adata.shape[0], adata.shape[0])).tocsr()\n",
    "    \n",
    "for path in tqdm(paths):\n",
    "    x = anndata.read_h5ad(join(data_folder, 'tmaps/{}'.format(path)))    \n",
    "    x = filter_cells(adata, x)\n",
    "    \n",
    "    obs = [barcode_map[el] for el in x.obs.index]\n",
    "    var = [barcode_map[el] for el in x.var.index]\n",
    "    \n",
    "    M[np.ix_(obs, var)] = csr_matrix(x.X)\n",
    "\n",
    "adata.uns['velocity_graph'] = M\n",
    "\n",
    "adata.write(join(output_folder, 'R3.h5ad'))"
   ]
  },
  {
   "cell_type": "code",
   "execution_count": null,
   "id": "54c43fcd-e4c3-41cb-87b3-b1190f7cdaf9",
   "metadata": {},
   "outputs": [],
   "source": [
    "%%time\n",
    "oci.pp.neighbors(adata, n_neighbors=20, verbose=True)\n",
    "oci.tl.MDM(adata, weights_key='lda', n_components=20, random_state=SEED, verbose=True)\n",
    "adata.write(join(output_folder, 'R4.h5ad'))"
   ]
  },
  {
   "cell_type": "code",
   "execution_count": null,
   "id": "465be545-58c9-45fe-93e6-3f86e890511c",
   "metadata": {},
   "outputs": [],
   "source": [
    "%%time\n",
    "\n",
    "oci.pp.neighbors(adata, modalities=['X_mdm'], neighbors_key='neighbors_mdm', n_neighbors=100, verbose=True)\n",
    "oci.tl.vel_graph(adata, n=10, neighbors_key='neighbors_mdm', verbose=True, use_timestamps=True)\n",
    "oci.tl.FA2(adata, n_components=2, n_steps=10000, random_state=SEED, output_key='X_fa2')\n",
    "adata.write(join(output_folder, 'R5.h5ad'))"
   ]
  }
 ],
 "metadata": {
  "environment": {
   "kernel": "python3",
   "name": "common-cpu.m96",
   "type": "gcloud",
   "uri": "gcr.io/deeplearning-platform-release/base-cpu:m96"
  },
  "kernelspec": {
   "display_name": "Python 3",
   "language": "python",
   "name": "python3"
  },
  "language_info": {
   "codemirror_mode": {
    "name": "ipython",
    "version": 3
   },
   "file_extension": ".py",
   "mimetype": "text/x-python",
   "name": "python",
   "nbconvert_exporter": "python",
   "pygments_lexer": "ipython3",
   "version": "3.7.12"
  }
 },
 "nbformat": 4,
 "nbformat_minor": 5
}
